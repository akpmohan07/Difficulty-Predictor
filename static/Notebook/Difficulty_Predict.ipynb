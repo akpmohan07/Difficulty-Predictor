{
  "nbformat": 4,
  "nbformat_minor": 0,
  "metadata": {
    "colab": {
      "name": "Difficulty_Predict",
      "provenance": [],
      "toc_visible": true,
      "authorship_tag": "ABX9TyPT1lw87hZtMdVPEwFUqMVM",
      "include_colab_link": true
    },
    "kernelspec": {
      "name": "python3",
      "display_name": "Python 3"
    }
  },
  "cells": [
    {
      "cell_type": "markdown",
      "metadata": {
        "id": "view-in-github",
        "colab_type": "text"
      },
      "source": [
        "<a href=\"https://colab.research.google.com/github/akpmohan07/Difficulty-Predictor/blob/master/static/Notebook/Difficulty_Predict.ipynb\" target=\"_parent\"><img src=\"https://colab.research.google.com/assets/colab-badge.svg\" alt=\"Open In Colab\"/></a>"
      ]
    },
    {
      "cell_type": "markdown",
      "metadata": {
        "id": "KI2MJ0XMmbm6",
        "colab_type": "text"
      },
      "source": [
        "# Problem Statement\n",
        "Derive an algorithm to find the difficulty of a question. For more [Details](https://github.com/akpmohan07/Difficulty-Predictor/blob/master/static/Readme%20Files/Campus%20Hiring%20Dev%20Role%20Tasks-1.pdf)\n",
        "\n",
        "**Reference:**\n",
        "\n",
        "[Solving A Simple Classification Problem with Python](https://towardsdatascience.com/solving-a-simple-classification-problem-with-python-fruits-lovers-edition-d20ab6b071d2)\n"
      ]
    },
    {
      "cell_type": "markdown",
      "metadata": {
        "id": "gxY8OVAT8Z91",
        "colab_type": "text"
      },
      "source": [
        "# Importing the Required Libraries"
      ]
    },
    {
      "cell_type": "code",
      "metadata": {
        "id": "d9Esm1M84L7g",
        "colab_type": "code",
        "colab": {}
      },
      "source": [
        "import pandas as pd\n",
        "import numpy as np\n",
        "import matplotlib.pyplot as plt\n",
        "from sklearn.preprocessing import LabelEncoder\n",
        "from sklearn.model_selection import train_test_split\n",
        "from sklearn.linear_model import LogisticRegression\n",
        "from sklearn.tree import DecisionTreeClassifier\n",
        "from sklearn.discriminant_analysis import LinearDiscriminantAnalysis\n",
        "from sklearn.neighbors import KNeighborsClassifier\n",
        "from sklearn.naive_bayes import GaussianNB\n",
        "from sklearn.svm import SVC\n",
        "from sklearn.preprocessing import MinMaxScaler\n",
        "import pickle\n",
        "from google.colab import files"
      ],
      "execution_count": 0,
      "outputs": []
    },
    {
      "cell_type": "markdown",
      "metadata": {
        "id": "pZfTa8288PKH",
        "colab_type": "text"
      },
      "source": [
        "# Importing the Data"
      ]
    },
    {
      "cell_type": "code",
      "metadata": {
        "id": "Xybwa5w86_SV",
        "colab_type": "code",
        "outputId": "547d085f-bd83-4f97-c070-4aa5e7d0c2f7",
        "colab": {
          "base_uri": "https://localhost:8080/",
          "height": 216
        }
      },
      "source": [
        "data = pd.read_csv(\"https://raw.githubusercontent.com/akpmohan07/Difficulty-Predictor/master/static/Data/Train_Data.csv\")\n",
        "data.head()\n"
      ],
      "execution_count": 0,
      "outputs": [
        {
          "output_type": "execute_result",
          "data": {
            "text/html": [
              "<div>\n",
              "<style scoped>\n",
              "    .dataframe tbody tr th:only-of-type {\n",
              "        vertical-align: middle;\n",
              "    }\n",
              "\n",
              "    .dataframe tbody tr th {\n",
              "        vertical-align: top;\n",
              "    }\n",
              "\n",
              "    .dataframe thead th {\n",
              "        text-align: right;\n",
              "    }\n",
              "</style>\n",
              "<table border=\"1\" class=\"dataframe\">\n",
              "  <thead>\n",
              "    <tr style=\"text-align: right;\">\n",
              "      <th></th>\n",
              "      <th>Question_Difficulty</th>\n",
              "      <th>Question_Type</th>\n",
              "      <th>Attended</th>\n",
              "      <th>Time_Taken</th>\n",
              "      <th>Submission</th>\n",
              "      <th>Hints_Used</th>\n",
              "      <th>Right</th>\n",
              "      <th>Partial</th>\n",
              "      <th>Wrong</th>\n",
              "    </tr>\n",
              "  </thead>\n",
              "  <tbody>\n",
              "    <tr>\n",
              "      <th>0</th>\n",
              "      <td>Easy</td>\n",
              "      <td>Program</td>\n",
              "      <td>12740685</td>\n",
              "      <td>12.0</td>\n",
              "      <td>3</td>\n",
              "      <td>2</td>\n",
              "      <td>7999965</td>\n",
              "      <td>2864185</td>\n",
              "      <td>1876535</td>\n",
              "    </tr>\n",
              "    <tr>\n",
              "      <th>1</th>\n",
              "      <td>Medium</td>\n",
              "      <td>Match</td>\n",
              "      <td>13333275</td>\n",
              "      <td>7.3</td>\n",
              "      <td>8</td>\n",
              "      <td>5</td>\n",
              "      <td>5728370</td>\n",
              "      <td>2666655</td>\n",
              "      <td>4938250</td>\n",
              "    </tr>\n",
              "    <tr>\n",
              "      <th>2</th>\n",
              "      <td>Easy</td>\n",
              "      <td>FillUp</td>\n",
              "      <td>12049330</td>\n",
              "      <td>3.9</td>\n",
              "      <td>4</td>\n",
              "      <td>2</td>\n",
              "      <td>8493790</td>\n",
              "      <td>2567890</td>\n",
              "      <td>987650</td>\n",
              "    </tr>\n",
              "    <tr>\n",
              "      <th>3</th>\n",
              "      <td>Hard</td>\n",
              "      <td>MCQ</td>\n",
              "      <td>8395025</td>\n",
              "      <td>5.0</td>\n",
              "      <td>11</td>\n",
              "      <td>7</td>\n",
              "      <td>493825</td>\n",
              "      <td>987650</td>\n",
              "      <td>6913550</td>\n",
              "    </tr>\n",
              "    <tr>\n",
              "      <th>4</th>\n",
              "      <td>Easy</td>\n",
              "      <td>FillUp</td>\n",
              "      <td>11654270</td>\n",
              "      <td>3.0</td>\n",
              "      <td>3</td>\n",
              "      <td>2</td>\n",
              "      <td>6913550</td>\n",
              "      <td>3753070</td>\n",
              "      <td>987650</td>\n",
              "    </tr>\n",
              "  </tbody>\n",
              "</table>\n",
              "</div>"
            ],
            "text/plain": [
              "  Question_Difficulty Question_Type  Attended  ...    Right  Partial    Wrong\n",
              "0                Easy       Program  12740685  ...  7999965  2864185  1876535\n",
              "1              Medium         Match  13333275  ...  5728370  2666655  4938250\n",
              "2                Easy        FillUp  12049330  ...  8493790  2567890   987650\n",
              "3                Hard           MCQ   8395025  ...   493825   987650  6913550\n",
              "4                Easy        FillUp  11654270  ...  6913550  3753070   987650\n",
              "\n",
              "[5 rows x 9 columns]"
            ]
          },
          "metadata": {
            "tags": []
          },
          "execution_count": 2
        }
      ]
    },
    {
      "cell_type": "markdown",
      "metadata": {
        "id": "V6ox0r6g8loV",
        "colab_type": "text"
      },
      "source": [
        "# Feature Analysis"
      ]
    },
    {
      "cell_type": "code",
      "metadata": {
        "id": "LVwf5VB-8t32",
        "colab_type": "code",
        "outputId": "5711bd6e-7dc3-4302-dea2-894a165bf324",
        "colab": {
          "base_uri": "https://localhost:8080/",
          "height": 35
        }
      },
      "source": [
        "print(data.shape) # 9 Features and 494 Rows"
      ],
      "execution_count": 0,
      "outputs": [
        {
          "output_type": "stream",
          "text": [
            "(494, 9)\n"
          ],
          "name": "stdout"
        }
      ]
    },
    {
      "cell_type": "code",
      "metadata": {
        "id": "4l5sbq-K_IkH",
        "colab_type": "code",
        "outputId": "00e95d2a-9943-4012-b2fa-602f814bd2ef",
        "colab": {
          "base_uri": "https://localhost:8080/",
          "height": 305
        }
      },
      "source": [
        "print(data.describe())\n",
        "print(data.describe(include=object))"
      ],
      "execution_count": 0,
      "outputs": [
        {
          "output_type": "stream",
          "text": [
            "           Attended  Time_Taken  ...       Partial         Wrong\n",
            "count  4.940000e+02  494.000000  ...  4.940000e+02  4.940000e+02\n",
            "mean   1.166727e+07   11.072065  ...  2.271595e+06  4.771109e+06\n",
            "std    1.225887e+06   12.286523  ...  6.180531e+05  2.479928e+06\n",
            "min    8.395025e+06    1.000000  ...  9.876500e+05  9.876500e+05\n",
            "25%    1.076538e+07    3.900000  ...  1.777770e+06  2.074065e+06\n",
            "50%    1.175304e+07    6.100000  ...  2.271595e+06  4.839485e+06\n",
            "75%    1.254316e+07   11.775000  ...  2.765420e+06  7.209845e+06\n",
            "max    1.511104e+07   60.000000  ...  3.950600e+06  8.888850e+06\n",
            "\n",
            "[8 rows x 7 columns]\n",
            "       Question_Difficulty Question_Type\n",
            "count                  494           494\n",
            "unique                   3             4\n",
            "top                   Easy           MCQ\n",
            "freq                   167           125\n"
          ],
          "name": "stdout"
        }
      ]
    },
    {
      "cell_type": "code",
      "metadata": {
        "id": "P04oDgZTUm_r",
        "colab_type": "code",
        "outputId": "73228eda-017d-4ace-a77c-b4a114ab52bb",
        "colab": {
          "base_uri": "https://localhost:8080/",
          "height": 404
        }
      },
      "source": [
        "#Droping the Attended Feature as it does not affect the Difficulty\n",
        "data = data.drop('Attended',axis=1)\n",
        "data"
      ],
      "execution_count": 0,
      "outputs": [
        {
          "output_type": "execute_result",
          "data": {
            "text/html": [
              "<div>\n",
              "<style scoped>\n",
              "    .dataframe tbody tr th:only-of-type {\n",
              "        vertical-align: middle;\n",
              "    }\n",
              "\n",
              "    .dataframe tbody tr th {\n",
              "        vertical-align: top;\n",
              "    }\n",
              "\n",
              "    .dataframe thead th {\n",
              "        text-align: right;\n",
              "    }\n",
              "</style>\n",
              "<table border=\"1\" class=\"dataframe\">\n",
              "  <thead>\n",
              "    <tr style=\"text-align: right;\">\n",
              "      <th></th>\n",
              "      <th>Question_Difficulty</th>\n",
              "      <th>Question_Type</th>\n",
              "      <th>Time_Taken</th>\n",
              "      <th>Submission</th>\n",
              "      <th>Hints_Used</th>\n",
              "      <th>Right</th>\n",
              "      <th>Partial</th>\n",
              "      <th>Wrong</th>\n",
              "    </tr>\n",
              "  </thead>\n",
              "  <tbody>\n",
              "    <tr>\n",
              "      <th>0</th>\n",
              "      <td>Easy</td>\n",
              "      <td>Program</td>\n",
              "      <td>12.0</td>\n",
              "      <td>3</td>\n",
              "      <td>2</td>\n",
              "      <td>7999965</td>\n",
              "      <td>2864185</td>\n",
              "      <td>1876535</td>\n",
              "    </tr>\n",
              "    <tr>\n",
              "      <th>1</th>\n",
              "      <td>Medium</td>\n",
              "      <td>Match</td>\n",
              "      <td>7.3</td>\n",
              "      <td>8</td>\n",
              "      <td>5</td>\n",
              "      <td>5728370</td>\n",
              "      <td>2666655</td>\n",
              "      <td>4938250</td>\n",
              "    </tr>\n",
              "    <tr>\n",
              "      <th>2</th>\n",
              "      <td>Easy</td>\n",
              "      <td>FillUp</td>\n",
              "      <td>3.9</td>\n",
              "      <td>4</td>\n",
              "      <td>2</td>\n",
              "      <td>8493790</td>\n",
              "      <td>2567890</td>\n",
              "      <td>987650</td>\n",
              "    </tr>\n",
              "    <tr>\n",
              "      <th>3</th>\n",
              "      <td>Hard</td>\n",
              "      <td>MCQ</td>\n",
              "      <td>5.0</td>\n",
              "      <td>11</td>\n",
              "      <td>7</td>\n",
              "      <td>493825</td>\n",
              "      <td>987650</td>\n",
              "      <td>6913550</td>\n",
              "    </tr>\n",
              "    <tr>\n",
              "      <th>4</th>\n",
              "      <td>Easy</td>\n",
              "      <td>FillUp</td>\n",
              "      <td>3.0</td>\n",
              "      <td>3</td>\n",
              "      <td>2</td>\n",
              "      <td>6913550</td>\n",
              "      <td>3753070</td>\n",
              "      <td>987650</td>\n",
              "    </tr>\n",
              "    <tr>\n",
              "      <th>...</th>\n",
              "      <td>...</td>\n",
              "      <td>...</td>\n",
              "      <td>...</td>\n",
              "      <td>...</td>\n",
              "      <td>...</td>\n",
              "      <td>...</td>\n",
              "      <td>...</td>\n",
              "      <td>...</td>\n",
              "    </tr>\n",
              "    <tr>\n",
              "      <th>489</th>\n",
              "      <td>Hard</td>\n",
              "      <td>MCQ</td>\n",
              "      <td>4.5</td>\n",
              "      <td>11</td>\n",
              "      <td>7</td>\n",
              "      <td>1086415</td>\n",
              "      <td>1580240</td>\n",
              "      <td>6913550</td>\n",
              "    </tr>\n",
              "    <tr>\n",
              "      <th>490</th>\n",
              "      <td>Easy</td>\n",
              "      <td>Program</td>\n",
              "      <td>14.0</td>\n",
              "      <td>2</td>\n",
              "      <td>1</td>\n",
              "      <td>7901200</td>\n",
              "      <td>2962950</td>\n",
              "      <td>1876535</td>\n",
              "    </tr>\n",
              "    <tr>\n",
              "      <th>491</th>\n",
              "      <td>Easy</td>\n",
              "      <td>Match</td>\n",
              "      <td>3.5</td>\n",
              "      <td>3</td>\n",
              "      <td>0</td>\n",
              "      <td>7407375</td>\n",
              "      <td>2962950</td>\n",
              "      <td>2666655</td>\n",
              "    </tr>\n",
              "    <tr>\n",
              "      <th>492</th>\n",
              "      <td>Hard</td>\n",
              "      <td>Match</td>\n",
              "      <td>11.4</td>\n",
              "      <td>11</td>\n",
              "      <td>9</td>\n",
              "      <td>987650</td>\n",
              "      <td>1679005</td>\n",
              "      <td>7407375</td>\n",
              "    </tr>\n",
              "    <tr>\n",
              "      <th>493</th>\n",
              "      <td>Easy</td>\n",
              "      <td>Program</td>\n",
              "      <td>14.0</td>\n",
              "      <td>3</td>\n",
              "      <td>1</td>\n",
              "      <td>7802435</td>\n",
              "      <td>2864185</td>\n",
              "      <td>1777770</td>\n",
              "    </tr>\n",
              "  </tbody>\n",
              "</table>\n",
              "<p>494 rows × 8 columns</p>\n",
              "</div>"
            ],
            "text/plain": [
              "    Question_Difficulty Question_Type  Time_Taken  ...    Right  Partial    Wrong\n",
              "0                  Easy       Program        12.0  ...  7999965  2864185  1876535\n",
              "1                Medium         Match         7.3  ...  5728370  2666655  4938250\n",
              "2                  Easy        FillUp         3.9  ...  8493790  2567890   987650\n",
              "3                  Hard           MCQ         5.0  ...   493825   987650  6913550\n",
              "4                  Easy        FillUp         3.0  ...  6913550  3753070   987650\n",
              "..                  ...           ...         ...  ...      ...      ...      ...\n",
              "489                Hard           MCQ         4.5  ...  1086415  1580240  6913550\n",
              "490                Easy       Program        14.0  ...  7901200  2962950  1876535\n",
              "491                Easy         Match         3.5  ...  7407375  2962950  2666655\n",
              "492                Hard         Match        11.4  ...   987650  1679005  7407375\n",
              "493                Easy       Program        14.0  ...  7802435  2864185  1777770\n",
              "\n",
              "[494 rows x 8 columns]"
            ]
          },
          "metadata": {
            "tags": []
          },
          "execution_count": 5
        }
      ]
    },
    {
      "cell_type": "markdown",
      "metadata": {
        "id": "czB5IKqVNKqz",
        "colab_type": "text"
      },
      "source": [
        "#Pre-Processing the Data"
      ]
    },
    {
      "cell_type": "markdown",
      "metadata": {
        "id": "ZNRbpiyPMyOF",
        "colab_type": "text"
      },
      "source": [
        " ***Handling Categorical Data***"
      ]
    },
    {
      "cell_type": "markdown",
      "metadata": {
        "id": "yY8O9zb8kGjP",
        "colab_type": "text"
      },
      "source": [
        "  1.Handling Question_Type ***Category by Creating Dummy Variable***\n",
        "\n",
        "\n",
        "\n",
        "\n"
      ]
    },
    {
      "cell_type": "code",
      "metadata": {
        "id": "MI502sIxNN07",
        "colab_type": "code",
        "outputId": "a2e5b5d4-1074-458e-f7ac-a6b2cdae7cde",
        "colab": {
          "base_uri": "https://localhost:8080/",
          "height": 424
        }
      },
      "source": [
        "#Handling Question_Type Category by Creating Dummy Variable\n",
        "dummy = pd.get_dummies(data.Question_Type)\n",
        "data = pd.concat([data,dummy],axis='columns')\n",
        "data = data.drop('Question_Type',axis = 'columns')\n",
        "data"
      ],
      "execution_count": 0,
      "outputs": [
        {
          "output_type": "execute_result",
          "data": {
            "text/html": [
              "<div>\n",
              "<style scoped>\n",
              "    .dataframe tbody tr th:only-of-type {\n",
              "        vertical-align: middle;\n",
              "    }\n",
              "\n",
              "    .dataframe tbody tr th {\n",
              "        vertical-align: top;\n",
              "    }\n",
              "\n",
              "    .dataframe thead th {\n",
              "        text-align: right;\n",
              "    }\n",
              "</style>\n",
              "<table border=\"1\" class=\"dataframe\">\n",
              "  <thead>\n",
              "    <tr style=\"text-align: right;\">\n",
              "      <th></th>\n",
              "      <th>Question_Difficulty</th>\n",
              "      <th>Time_Taken</th>\n",
              "      <th>Submission</th>\n",
              "      <th>Hints_Used</th>\n",
              "      <th>Right</th>\n",
              "      <th>Partial</th>\n",
              "      <th>Wrong</th>\n",
              "      <th>FillUp</th>\n",
              "      <th>MCQ</th>\n",
              "      <th>Match</th>\n",
              "      <th>Program</th>\n",
              "    </tr>\n",
              "  </thead>\n",
              "  <tbody>\n",
              "    <tr>\n",
              "      <th>0</th>\n",
              "      <td>Easy</td>\n",
              "      <td>12.0</td>\n",
              "      <td>3</td>\n",
              "      <td>2</td>\n",
              "      <td>7999965</td>\n",
              "      <td>2864185</td>\n",
              "      <td>1876535</td>\n",
              "      <td>0</td>\n",
              "      <td>0</td>\n",
              "      <td>0</td>\n",
              "      <td>1</td>\n",
              "    </tr>\n",
              "    <tr>\n",
              "      <th>1</th>\n",
              "      <td>Medium</td>\n",
              "      <td>7.3</td>\n",
              "      <td>8</td>\n",
              "      <td>5</td>\n",
              "      <td>5728370</td>\n",
              "      <td>2666655</td>\n",
              "      <td>4938250</td>\n",
              "      <td>0</td>\n",
              "      <td>0</td>\n",
              "      <td>1</td>\n",
              "      <td>0</td>\n",
              "    </tr>\n",
              "    <tr>\n",
              "      <th>2</th>\n",
              "      <td>Easy</td>\n",
              "      <td>3.9</td>\n",
              "      <td>4</td>\n",
              "      <td>2</td>\n",
              "      <td>8493790</td>\n",
              "      <td>2567890</td>\n",
              "      <td>987650</td>\n",
              "      <td>1</td>\n",
              "      <td>0</td>\n",
              "      <td>0</td>\n",
              "      <td>0</td>\n",
              "    </tr>\n",
              "    <tr>\n",
              "      <th>3</th>\n",
              "      <td>Hard</td>\n",
              "      <td>5.0</td>\n",
              "      <td>11</td>\n",
              "      <td>7</td>\n",
              "      <td>493825</td>\n",
              "      <td>987650</td>\n",
              "      <td>6913550</td>\n",
              "      <td>0</td>\n",
              "      <td>1</td>\n",
              "      <td>0</td>\n",
              "      <td>0</td>\n",
              "    </tr>\n",
              "    <tr>\n",
              "      <th>4</th>\n",
              "      <td>Easy</td>\n",
              "      <td>3.0</td>\n",
              "      <td>3</td>\n",
              "      <td>2</td>\n",
              "      <td>6913550</td>\n",
              "      <td>3753070</td>\n",
              "      <td>987650</td>\n",
              "      <td>1</td>\n",
              "      <td>0</td>\n",
              "      <td>0</td>\n",
              "      <td>0</td>\n",
              "    </tr>\n",
              "    <tr>\n",
              "      <th>...</th>\n",
              "      <td>...</td>\n",
              "      <td>...</td>\n",
              "      <td>...</td>\n",
              "      <td>...</td>\n",
              "      <td>...</td>\n",
              "      <td>...</td>\n",
              "      <td>...</td>\n",
              "      <td>...</td>\n",
              "      <td>...</td>\n",
              "      <td>...</td>\n",
              "      <td>...</td>\n",
              "    </tr>\n",
              "    <tr>\n",
              "      <th>489</th>\n",
              "      <td>Hard</td>\n",
              "      <td>4.5</td>\n",
              "      <td>11</td>\n",
              "      <td>7</td>\n",
              "      <td>1086415</td>\n",
              "      <td>1580240</td>\n",
              "      <td>6913550</td>\n",
              "      <td>0</td>\n",
              "      <td>1</td>\n",
              "      <td>0</td>\n",
              "      <td>0</td>\n",
              "    </tr>\n",
              "    <tr>\n",
              "      <th>490</th>\n",
              "      <td>Easy</td>\n",
              "      <td>14.0</td>\n",
              "      <td>2</td>\n",
              "      <td>1</td>\n",
              "      <td>7901200</td>\n",
              "      <td>2962950</td>\n",
              "      <td>1876535</td>\n",
              "      <td>0</td>\n",
              "      <td>0</td>\n",
              "      <td>0</td>\n",
              "      <td>1</td>\n",
              "    </tr>\n",
              "    <tr>\n",
              "      <th>491</th>\n",
              "      <td>Easy</td>\n",
              "      <td>3.5</td>\n",
              "      <td>3</td>\n",
              "      <td>0</td>\n",
              "      <td>7407375</td>\n",
              "      <td>2962950</td>\n",
              "      <td>2666655</td>\n",
              "      <td>0</td>\n",
              "      <td>0</td>\n",
              "      <td>1</td>\n",
              "      <td>0</td>\n",
              "    </tr>\n",
              "    <tr>\n",
              "      <th>492</th>\n",
              "      <td>Hard</td>\n",
              "      <td>11.4</td>\n",
              "      <td>11</td>\n",
              "      <td>9</td>\n",
              "      <td>987650</td>\n",
              "      <td>1679005</td>\n",
              "      <td>7407375</td>\n",
              "      <td>0</td>\n",
              "      <td>0</td>\n",
              "      <td>1</td>\n",
              "      <td>0</td>\n",
              "    </tr>\n",
              "    <tr>\n",
              "      <th>493</th>\n",
              "      <td>Easy</td>\n",
              "      <td>14.0</td>\n",
              "      <td>3</td>\n",
              "      <td>1</td>\n",
              "      <td>7802435</td>\n",
              "      <td>2864185</td>\n",
              "      <td>1777770</td>\n",
              "      <td>0</td>\n",
              "      <td>0</td>\n",
              "      <td>0</td>\n",
              "      <td>1</td>\n",
              "    </tr>\n",
              "  </tbody>\n",
              "</table>\n",
              "<p>494 rows × 11 columns</p>\n",
              "</div>"
            ],
            "text/plain": [
              "    Question_Difficulty  Time_Taken  Submission  ...  MCQ  Match  Program\n",
              "0                  Easy        12.0           3  ...    0      0        1\n",
              "1                Medium         7.3           8  ...    0      1        0\n",
              "2                  Easy         3.9           4  ...    0      0        0\n",
              "3                  Hard         5.0          11  ...    1      0        0\n",
              "4                  Easy         3.0           3  ...    0      0        0\n",
              "..                  ...         ...         ...  ...  ...    ...      ...\n",
              "489                Hard         4.5          11  ...    1      0        0\n",
              "490                Easy        14.0           2  ...    0      0        1\n",
              "491                Easy         3.5           3  ...    0      1        0\n",
              "492                Hard        11.4          11  ...    0      1        0\n",
              "493                Easy        14.0           3  ...    0      0        1\n",
              "\n",
              "[494 rows x 11 columns]"
            ]
          },
          "metadata": {
            "tags": []
          },
          "execution_count": 6
        }
      ]
    },
    {
      "cell_type": "markdown",
      "metadata": {
        "id": "m4mubcW7kgTy",
        "colab_type": "text"
      },
      "source": [
        "2.Handling Question_Difficulty Category by ***Label Encoding***"
      ]
    },
    {
      "cell_type": "code",
      "metadata": {
        "id": "kKdoFSjiVyw0",
        "colab_type": "code",
        "outputId": "a893a99f-f233-497e-da55-68b0ecbd500c",
        "colab": {
          "base_uri": "https://localhost:8080/",
          "height": 216
        }
      },
      "source": [
        "#Handling Question_Difficulty Category by Label Encoding\n",
        "le = LabelEncoder()\n",
        "data.Question_Difficulty = le.fit_transform(data.Question_Difficulty)\n",
        "data.head()"
      ],
      "execution_count": 0,
      "outputs": [
        {
          "output_type": "execute_result",
          "data": {
            "text/html": [
              "<div>\n",
              "<style scoped>\n",
              "    .dataframe tbody tr th:only-of-type {\n",
              "        vertical-align: middle;\n",
              "    }\n",
              "\n",
              "    .dataframe tbody tr th {\n",
              "        vertical-align: top;\n",
              "    }\n",
              "\n",
              "    .dataframe thead th {\n",
              "        text-align: right;\n",
              "    }\n",
              "</style>\n",
              "<table border=\"1\" class=\"dataframe\">\n",
              "  <thead>\n",
              "    <tr style=\"text-align: right;\">\n",
              "      <th></th>\n",
              "      <th>Question_Difficulty</th>\n",
              "      <th>Time_Taken</th>\n",
              "      <th>Submission</th>\n",
              "      <th>Hints_Used</th>\n",
              "      <th>Right</th>\n",
              "      <th>Partial</th>\n",
              "      <th>Wrong</th>\n",
              "      <th>FillUp</th>\n",
              "      <th>MCQ</th>\n",
              "      <th>Match</th>\n",
              "      <th>Program</th>\n",
              "    </tr>\n",
              "  </thead>\n",
              "  <tbody>\n",
              "    <tr>\n",
              "      <th>0</th>\n",
              "      <td>0</td>\n",
              "      <td>12.0</td>\n",
              "      <td>3</td>\n",
              "      <td>2</td>\n",
              "      <td>7999965</td>\n",
              "      <td>2864185</td>\n",
              "      <td>1876535</td>\n",
              "      <td>0</td>\n",
              "      <td>0</td>\n",
              "      <td>0</td>\n",
              "      <td>1</td>\n",
              "    </tr>\n",
              "    <tr>\n",
              "      <th>1</th>\n",
              "      <td>2</td>\n",
              "      <td>7.3</td>\n",
              "      <td>8</td>\n",
              "      <td>5</td>\n",
              "      <td>5728370</td>\n",
              "      <td>2666655</td>\n",
              "      <td>4938250</td>\n",
              "      <td>0</td>\n",
              "      <td>0</td>\n",
              "      <td>1</td>\n",
              "      <td>0</td>\n",
              "    </tr>\n",
              "    <tr>\n",
              "      <th>2</th>\n",
              "      <td>0</td>\n",
              "      <td>3.9</td>\n",
              "      <td>4</td>\n",
              "      <td>2</td>\n",
              "      <td>8493790</td>\n",
              "      <td>2567890</td>\n",
              "      <td>987650</td>\n",
              "      <td>1</td>\n",
              "      <td>0</td>\n",
              "      <td>0</td>\n",
              "      <td>0</td>\n",
              "    </tr>\n",
              "    <tr>\n",
              "      <th>3</th>\n",
              "      <td>1</td>\n",
              "      <td>5.0</td>\n",
              "      <td>11</td>\n",
              "      <td>7</td>\n",
              "      <td>493825</td>\n",
              "      <td>987650</td>\n",
              "      <td>6913550</td>\n",
              "      <td>0</td>\n",
              "      <td>1</td>\n",
              "      <td>0</td>\n",
              "      <td>0</td>\n",
              "    </tr>\n",
              "    <tr>\n",
              "      <th>4</th>\n",
              "      <td>0</td>\n",
              "      <td>3.0</td>\n",
              "      <td>3</td>\n",
              "      <td>2</td>\n",
              "      <td>6913550</td>\n",
              "      <td>3753070</td>\n",
              "      <td>987650</td>\n",
              "      <td>1</td>\n",
              "      <td>0</td>\n",
              "      <td>0</td>\n",
              "      <td>0</td>\n",
              "    </tr>\n",
              "  </tbody>\n",
              "</table>\n",
              "</div>"
            ],
            "text/plain": [
              "   Question_Difficulty  Time_Taken  Submission  ...  MCQ  Match  Program\n",
              "0                    0        12.0           3  ...    0      0        1\n",
              "1                    2         7.3           8  ...    0      1        0\n",
              "2                    0         3.9           4  ...    0      0        0\n",
              "3                    1         5.0          11  ...    1      0        0\n",
              "4                    0         3.0           3  ...    0      0        0\n",
              "\n",
              "[5 rows x 11 columns]"
            ]
          },
          "metadata": {
            "tags": []
          },
          "execution_count": 7
        }
      ]
    },
    {
      "cell_type": "markdown",
      "metadata": {
        "id": "ip--ZovReGAk",
        "colab_type": "text"
      },
      "source": [
        "# Train and Test Data Split"
      ]
    },
    {
      "cell_type": "markdown",
      "metadata": {
        "id": "O1BaosHek-AD",
        "colab_type": "text"
      },
      "source": [
        "1.Splitting the **Feature and Target Data**"
      ]
    },
    {
      "cell_type": "code",
      "metadata": {
        "id": "iJa-IVeLeNpq",
        "colab_type": "code",
        "colab": {}
      },
      "source": [
        "#Splitting the Feature and Target Data\n",
        "x = data.drop('Question_Difficulty',axis = 1)\n",
        "y = data['Question_Difficulty']"
      ],
      "execution_count": 0,
      "outputs": []
    },
    {
      "cell_type": "markdown",
      "metadata": {
        "id": "LLoAa_7KlFHm",
        "colab_type": "text"
      },
      "source": [
        "2.Spliting ***Train and Test Data***"
      ]
    },
    {
      "cell_type": "code",
      "metadata": {
        "id": "OScNg5-Fe5GA",
        "colab_type": "code",
        "outputId": "32734e6d-e396-4476-8f65-f966843d3c05",
        "colab": {
          "base_uri": "https://localhost:8080/",
          "height": 35
        }
      },
      "source": [
        "#Spliting Train and Test Data\n",
        "train,test,train_label,test_label = train_test_split(x,y,random_state = 0,test_size=0.5)\n",
        "print(train.shape,test.shape)"
      ],
      "execution_count": 0,
      "outputs": [
        {
          "output_type": "stream",
          "text": [
            "(247, 10) (247, 10)\n"
          ],
          "name": "stdout"
        }
      ]
    },
    {
      "cell_type": "markdown",
      "metadata": {
        "id": "WKovVjCRgNeP",
        "colab_type": "text"
      },
      "source": [
        "# Building Model"
      ]
    },
    {
      "cell_type": "markdown",
      "metadata": {
        "id": "ScbFw8R_gRY2",
        "colab_type": "text"
      },
      "source": [
        "Logistic Regression"
      ]
    },
    {
      "cell_type": "code",
      "metadata": {
        "id": "pvYJRvEMgZ7H",
        "colab_type": "code",
        "outputId": "bee83892-404b-48bd-968a-f5b3a424233a",
        "colab": {
          "base_uri": "https://localhost:8080/",
          "height": 35
        }
      },
      "source": [
        "scaler = MinMaxScaler()\n",
        "x_train = scaler.fit_transform(train)\n",
        "x_test = scaler.transform(test)\n",
        "logreg = LogisticRegression()\n",
        "logreg.fit(x_train,train_label)\n",
        "logreg.score(x_test,test_label)"
      ],
      "execution_count": 0,
      "outputs": [
        {
          "output_type": "execute_result",
          "data": {
            "text/plain": [
              "1.0"
            ]
          },
          "metadata": {
            "tags": []
          },
          "execution_count": 10
        }
      ]
    },
    {
      "cell_type": "markdown",
      "metadata": {
        "id": "WKV7bVmehuys",
        "colab_type": "text"
      },
      "source": [
        "DecisionTreeClassifier"
      ]
    },
    {
      "cell_type": "code",
      "metadata": {
        "id": "jfsNT434hyAC",
        "colab_type": "code",
        "outputId": "52e97024-4c89-4ce7-c52c-71a121e9337d",
        "colab": {
          "base_uri": "https://localhost:8080/",
          "height": 35
        }
      },
      "source": [
        "dtc = DecisionTreeClassifier(max_depth=2)\n",
        "dtc.fit(train,train_label)\n",
        "print(dtc.score(test,test_label))\n",
        "pickle.dump(dtc, open('model.pkl', 'wb'))\n",
        "#files.download('model.pkl')"
      ],
      "execution_count": 0,
      "outputs": [
        {
          "output_type": "stream",
          "text": [
            "1.0\n"
          ],
          "name": "stdout"
        }
      ]
    },
    {
      "cell_type": "markdown",
      "metadata": {
        "id": "8Fo2TuXKj6PK",
        "colab_type": "text"
      },
      "source": [
        "LinearDiscriminantAnalysis\n"
      ]
    },
    {
      "cell_type": "code",
      "metadata": {
        "id": "Np9DJnDMk_kZ",
        "colab_type": "code",
        "outputId": "5ed8373c-686c-44f5-ee08-2818a60741c0",
        "colab": {
          "base_uri": "https://localhost:8080/",
          "height": 35
        }
      },
      "source": [
        "lda = LinearDiscriminantAnalysis()\n",
        "lda.fit(train, train_label)\n",
        "lda.score(test,test_label)"
      ],
      "execution_count": 0,
      "outputs": [
        {
          "output_type": "execute_result",
          "data": {
            "text/plain": [
              "1.0"
            ]
          },
          "metadata": {
            "tags": []
          },
          "execution_count": 12
        }
      ]
    },
    {
      "cell_type": "markdown",
      "metadata": {
        "id": "w6V4BgKGli_w",
        "colab_type": "text"
      },
      "source": [
        "KNeighborsClassifier"
      ]
    },
    {
      "cell_type": "code",
      "metadata": {
        "id": "mKLhbmO3lmdZ",
        "colab_type": "code",
        "outputId": "63d70e6a-920f-4721-b89a-e20d483bd8fb",
        "colab": {
          "base_uri": "https://localhost:8080/",
          "height": 35
        }
      },
      "source": [
        "knn = KNeighborsClassifier()\n",
        "knn.fit(train, train_label)\n",
        "knn.score(test,test_label)"
      ],
      "execution_count": 0,
      "outputs": [
        {
          "output_type": "execute_result",
          "data": {
            "text/plain": [
              "1.0"
            ]
          },
          "metadata": {
            "tags": []
          },
          "execution_count": 13
        }
      ]
    },
    {
      "cell_type": "markdown",
      "metadata": {
        "id": "DQNjE9UbmELw",
        "colab_type": "text"
      },
      "source": [
        "Gaussian Naive Bayes"
      ]
    },
    {
      "cell_type": "code",
      "metadata": {
        "id": "bSVbRe2TmNiO",
        "colab_type": "code",
        "outputId": "9689a165-3e41-486c-d18e-be008965ea2a",
        "colab": {
          "base_uri": "https://localhost:8080/",
          "height": 35
        }
      },
      "source": [
        "gnb = GaussianNB()\n",
        "gnb.fit(train,train_label)\n",
        "gnb.score(test,test_label)"
      ],
      "execution_count": 0,
      "outputs": [
        {
          "output_type": "execute_result",
          "data": {
            "text/plain": [
              "1.0"
            ]
          },
          "metadata": {
            "tags": []
          },
          "execution_count": 14
        }
      ]
    },
    {
      "cell_type": "markdown",
      "metadata": {
        "id": "Ed6gvAztmlrH",
        "colab_type": "text"
      },
      "source": [
        "Support Vector Machine"
      ]
    },
    {
      "cell_type": "code",
      "metadata": {
        "id": "dRjU0HMAmosC",
        "colab_type": "code",
        "outputId": "65d4c61e-f27b-4da4-8582-70d14cac9c96",
        "colab": {
          "base_uri": "https://localhost:8080/",
          "height": 35
        }
      },
      "source": [
        "svm = SVC()\n",
        "svm.fit(train, train_label)\n",
        "svm.score(test,test_label)"
      ],
      "execution_count": 0,
      "outputs": [
        {
          "output_type": "execute_result",
          "data": {
            "text/plain": [
              "1.0"
            ]
          },
          "metadata": {
            "tags": []
          },
          "execution_count": 15
        }
      ]
    },
    {
      "cell_type": "markdown",
      "metadata": {
        "id": "B62c4G_tKA5O",
        "colab_type": "text"
      },
      "source": [
        "# Visualizing The Model\n"
      ]
    },
    {
      "cell_type": "markdown",
      "metadata": {
        "id": "pPENgjxBnhQ8",
        "colab_type": "text"
      },
      "source": [
        "**Reference:**\n",
        "\n",
        "[Visualize Scikit-learn models’ decision boundaries](https://towardsdatascience.com/easily-visualize-scikit-learn-models-decision-boundaries-dd0fb3747508)"
      ]
    },
    {
      "cell_type": "code",
      "metadata": {
        "id": "WfcDWI56_oqm",
        "colab_type": "code",
        "colab": {}
      },
      "source": [
        "\n",
        "def plot_decision_boundaries(X, y, model_class, **model_params):\n",
        "    \"\"\"\n",
        "    Function to plot the decision boundaries of a classification model.\n",
        "    This uses just the first two columns of the data for fitting \n",
        "    the model as we need to find the predicted value for every point in \n",
        "    scatter plot.\n",
        "    Arguments:\n",
        "            X: Feature data as a NumPy-type array.\n",
        "            y: Label data as a NumPy-type array.\n",
        "            model_class: A Scikit-learn ML estimator class \n",
        "            e.g. GaussianNB (imported from sklearn.naive_bayes) or\n",
        "            LogisticRegression (imported from sklearn.linear_model)\n",
        "            **model_params: Model parameters to be passed on to the ML estimator\n",
        "    \n",
        "    Typical code example:\n",
        "            plt.figure()\n",
        "            plt.title(\"KNN decision boundary with neighbros: 5\",fontsize=16)\n",
        "            plot_decision_boundaries(X_train,y_train,KNeighborsClassifier,n_neighbors=5)\n",
        "            plt.show()\n",
        "    \"\"\"\n",
        "    try:\n",
        "        X = np.array(X)\n",
        "        y = np.array(y).flatten()\n",
        "    except:\n",
        "        print(\"Coercing input data to NumPy arrays failed\")\n",
        "    # Reduces to the first two columns of data\n",
        "    reduced_data = X[:, :2]\n",
        "    #print(reduced_data)\n",
        "    # Instantiate the model object\n",
        "    model = model_class(**model_params)\n",
        "    # Fits the model with the reduced data\n",
        "    model.fit(reduced_data, y)\n",
        "\n",
        "    # Step size of the mesh. Decrease to increase the quality of the VQ.\n",
        "    h = .02     # point in the mesh [x_min, m_max]x[y_min, y_max].    \n",
        "\n",
        "    # Plot the decision boundary. For that, we will assign a color to each\n",
        "    x_min, x_max = reduced_data[:, 0].min() - 1, reduced_data[:, 0].max() + 1\n",
        "    y_min, y_max = reduced_data[:, 1].min() - 1, reduced_data[:, 1].max() + 1\n",
        "    #print(y_min, y_max,x_min, x_max)\n",
        "    # Meshgrid creation\n",
        "    xx, yy = np.meshgrid(np.arange(x_min, x_max, h), np.arange(y_min, y_max, h))\n",
        "    #print(xx,yy)\n",
        "    # Obtain labels for each point in mesh using the model.\n",
        "    Z = model.predict(np.c_[xx.ravel(), yy.ravel()])    \n",
        "   \n",
        "    x_min, x_max = X[:, 0].min() - 1, X[:, 0].max() + 1\n",
        "    y_min, y_max = X[:, 1].min() - 1, X[:, 1].max() + 1\n",
        "    xx, yy = np.meshgrid(np.arange(x_min, x_max, 0.1),\n",
        "                         np.arange(y_min, y_max, 0.1))\n",
        "\n",
        "    # Predictions to obtain the classification results\n",
        "    Z = model.predict(np.c_[xx.ravel(), yy.ravel()]).reshape(xx.shape)\n",
        "    # Plotting\n",
        "    plt.contourf(xx, yy,Z, alpha=0.4)\n",
        "    plt.scatter(X[:, 0], X[:, 1], c=y, alpha=0.8)\n",
        "    plt.xlabel(\"Time-Taken\",fontsize=15)\n",
        "    plt.ylabel(\"Submission\",fontsize=15)\n",
        "    plt.xticks(fontsize=14)\n",
        "    plt.yticks(fontsize=14)\n",
        "    return plt"
      ],
      "execution_count": 0,
      "outputs": []
    },
    {
      "cell_type": "code",
      "metadata": {
        "id": "FWufvKT8_tGN",
        "colab_type": "code",
        "outputId": "44ede577-24cf-4ce4-ea76-79d4b7450aea",
        "colab": {
          "base_uri": "https://localhost:8080/",
          "height": 306
        }
      },
      "source": [
        "plot_decision_boundaries(test,test_label,KNeighborsClassifier)"
      ],
      "execution_count": 0,
      "outputs": [
        {
          "output_type": "execute_result",
          "data": {
            "text/plain": [
              "<module 'matplotlib.pyplot' from '/usr/local/lib/python3.6/dist-packages/matplotlib/pyplot.py'>"
            ]
          },
          "metadata": {
            "tags": []
          },
          "execution_count": 17
        },
        {
          "output_type": "display_data",
          "data": {
            "image/png": "[encoded data removed]",
            "text/plain": [
              "<Figure size 432x288 with 1 Axes>"
            ]
          },
          "metadata": {
            "tags": [],
            "needs_background": "light"
          }
        }
      ]
    },
    {
      "cell_type": "code",
      "metadata": {
        "id": "JBtckDgeAZwY",
        "colab_type": "code",
        "outputId": "c5b274f7-0d54-4d38-de02-c32a449a97c8",
        "colab": {
          "base_uri": "https://localhost:8080/",
          "height": 306
        }
      },
      "source": [
        "plot_decision_boundaries(test,test_label,GaussianNB)"
      ],
      "execution_count": 0,
      "outputs": [
        {
          "output_type": "execute_result",
          "data": {
            "text/plain": [
              "<module 'matplotlib.pyplot' from '/usr/local/lib/python3.6/dist-packages/matplotlib/pyplot.py'>"
            ]
          },
          "metadata": {
            "tags": []
          },
          "execution_count": 18
        },
        {
          "output_type": "display_data",
          "data": {
            "image/png": "[encoded data removed]",
            "text/plain": [
              "<Figure size 432x288 with 1 Axes>"
            ]
          },
          "metadata": {
            "tags": [],
            "needs_background": "light"
          }
        }
      ]
    },
    {
      "cell_type": "code",
      "metadata": {
        "id": "UOcWL4ALAo9d",
        "colab_type": "code",
        "outputId": "15ca7f62-a1bb-4a4c-d3f4-07eec3a57b9b",
        "colab": {
          "base_uri": "https://localhost:8080/",
          "height": 306
        }
      },
      "source": [
        "plot_decision_boundaries(train,train_label,SVC)"
      ],
      "execution_count": 0,
      "outputs": [
        {
          "output_type": "execute_result",
          "data": {
            "text/plain": [
              "<module 'matplotlib.pyplot' from '/usr/local/lib/python3.6/dist-packages/matplotlib/pyplot.py'>"
            ]
          },
          "metadata": {
            "tags": []
          },
          "execution_count": 19
        },
        {
          "output_type": "display_data",
          "data": {
            "image/png": "[encoded data removed]",
            "text/plain": [
              "<Figure size 432x288 with 1 Axes>"
            ]
          },
          "metadata": {
            "tags": [],
            "needs_background": "light"
          }
        }
      ]
    },
    {
      "cell_type": "code",
      "metadata": {
        "id": "vS9jEa8BBTG-",
        "colab_type": "code",
        "outputId": "4670fa17-c9be-4961-d7ab-4d93c6dbd30e",
        "colab": {
          "base_uri": "https://localhost:8080/",
          "height": 306
        }
      },
      "source": [
        "plot_decision_boundaries(test,test_label,LinearDiscriminantAnalysis)"
      ],
      "execution_count": 0,
      "outputs": [
        {
          "output_type": "execute_result",
          "data": {
            "text/plain": [
              "<module 'matplotlib.pyplot' from '/usr/local/lib/python3.6/dist-packages/matplotlib/pyplot.py'>"
            ]
          },
          "metadata": {
            "tags": []
          },
          "execution_count": 20
        },
        {
          "output_type": "display_data",
          "data": {
            "image/png": "[encoded data removed]",
            "text/plain": [
              "<Figure size 432x288 with 1 Axes>"
            ]
          },
          "metadata": {
            "tags": [],
            "needs_background": "light"
          }
        }
      ]
    },
    {
      "cell_type": "code",
      "metadata": {
        "id": "GDoMY6ZLBnPI",
        "colab_type": "code",
        "outputId": "0f812d04-20ec-46c6-a7e2-b232170e9619",
        "colab": {
          "base_uri": "https://localhost:8080/",
          "height": 306
        }
      },
      "source": [
        "plot_decision_boundaries(test,test_label,DecisionTreeClassifier)"
      ],
      "execution_count": 0,
      "outputs": [
        {
          "output_type": "execute_result",
          "data": {
            "text/plain": [
              "<module 'matplotlib.pyplot' from '/usr/local/lib/python3.6/dist-packages/matplotlib/pyplot.py'>"
            ]
          },
          "metadata": {
            "tags": []
          },
          "execution_count": 21
        },
        {
          "output_type": "display_data",
          "data": {
            "image/png": "[encoded data removed]",
            "text/plain": [
              "<Figure size 432x288 with 1 Axes>"
            ]
          },
          "metadata": {
            "tags": [],
            "needs_background": "light"
          }
        }
      ]
    },
    {
      "cell_type": "code",
      "metadata": {
        "id": "lA4xDStSBtcl",
        "colab_type": "code",
        "outputId": "17cc8004-8768-4449-8a45-7e19e6b29fef",
        "colab": {
          "base_uri": "https://localhost:8080/",
          "height": 306
        }
      },
      "source": [
        "plot_decision_boundaries(test,test_label,LogisticRegression)"
      ],
      "execution_count": 0,
      "outputs": [
        {
          "output_type": "execute_result",
          "data": {
            "text/plain": [
              "<module 'matplotlib.pyplot' from '/usr/local/lib/python3.6/dist-packages/matplotlib/pyplot.py'>"
            ]
          },
          "metadata": {
            "tags": []
          },
          "execution_count": 22
        },
        {
          "output_type": "display_data",
          "data": {
            "image/png": "[encoded data removed]",
            "text/plain": [
              "<Figure size 432x288 with 1 Axes>"
            ]
          },
          "metadata": {
            "tags": [],
            "needs_background": "light"
          }
        }
      ]
    }
  ]
}